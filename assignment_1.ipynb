{
  "nbformat": 4,
  "nbformat_minor": 0,
  "metadata": {
    "colab": {
      "provenance": [],
      "authorship_tag": "ABX9TyP6XJXn4yJ3LsN6/J32vuyW",
      "include_colab_link": true
    },
    "kernelspec": {
      "name": "python3",
      "display_name": "Python 3"
    },
    "language_info": {
      "name": "python"
    }
  },
  "cells": [
    {
      "cell_type": "markdown",
      "metadata": {
        "id": "view-in-github",
        "colab_type": "text"
      },
      "source": [
        "<a href=\"https://colab.research.google.com/github/Tuhin04/Assignment-1/blob/main/assignment_1.ipynb\" target=\"_parent\"><img src=\"https://colab.research.google.com/assets/colab-badge.svg\" alt=\"Open In Colab\"/></a>"
      ]
    },
    {
      "cell_type": "markdown",
      "source": [
        "**(1)L is a list defined as L= [11, 12, 13, 14]**"
      ],
      "metadata": {
        "id": "DDD3yQglrhES"
      }
    },
    {
      "cell_type": "markdown",
      "source": [],
      "metadata": {
        "id": "l9SW9bzGrg5l"
      }
    },
    {
      "cell_type": "markdown",
      "source": [
        "**WAP to add 50 and 60 to L**\n"
      ],
      "metadata": {
        "id": "eSwVd8bWnglf"
      }
    },
    {
      "cell_type": "code",
      "execution_count": null,
      "metadata": {
        "id": "UF4U_Zkzg2Zf",
        "colab": {
          "base_uri": "https://localhost:8080/"
        },
        "outputId": "b57d398e-2c85-4cb3-b444-4063a5115104"
      },
      "outputs": [
        {
          "output_type": "stream",
          "name": "stdout",
          "text": [
            "[11, 12, 13, 14, 50, 60]\n"
          ]
        }
      ],
      "source": [
        "L.append(50)\n",
        "L.append(60)\n",
        "print(L)\n"
      ]
    },
    {
      "cell_type": "markdown",
      "source": [
        "**WAP to remove 11 and 13from L**"
      ],
      "metadata": {
        "id": "hnFutdtInoqy"
      }
    },
    {
      "cell_type": "code",
      "source": [
        "L.remove(11)\n",
        "L.remove(13)\n",
        "print(L)"
      ],
      "metadata": {
        "colab": {
          "base_uri": "https://localhost:8080/"
        },
        "id": "ekN_9oCJmG4G",
        "outputId": "423e0360-e724-4d40-c289-079e1c54e934"
      },
      "execution_count": null,
      "outputs": [
        {
          "output_type": "stream",
          "name": "stdout",
          "text": [
            "[12, 14]\n"
          ]
        }
      ]
    },
    {
      "cell_type": "markdown",
      "source": [
        "**WAP to sort L in ascending order**"
      ],
      "metadata": {
        "id": "rZeClSfZn895"
      }
    },
    {
      "cell_type": "code",
      "source": [
        "L = [11, 12, 13, 14]\n",
        "L.sort()\n",
        "print(L)"
      ],
      "metadata": {
        "colab": {
          "base_uri": "https://localhost:8080/"
        },
        "id": "8d9XCpnxoAS-",
        "outputId": "d47d65d8-23e9-4825-a18e-c97c763294fa"
      },
      "execution_count": null,
      "outputs": [
        {
          "output_type": "stream",
          "name": "stdout",
          "text": [
            "[11, 12, 13, 14]\n"
          ]
        }
      ]
    },
    {
      "cell_type": "markdown",
      "source": [
        "**WAP to sort L in descending order**"
      ],
      "metadata": {
        "id": "d86NzE_moXxY"
      }
    },
    {
      "cell_type": "code",
      "source": [
        "L.sort(reverse=True)\n",
        "print(L)"
      ],
      "metadata": {
        "colab": {
          "base_uri": "https://localhost:8080/"
        },
        "id": "mYLuPG43oai_",
        "outputId": "a7d846b8-6ee7-4073-e566-9f4c9b218ffd"
      },
      "execution_count": null,
      "outputs": [
        {
          "output_type": "stream",
          "name": "stdout",
          "text": [
            "[14, 13, 12, 11]\n"
          ]
        }
      ]
    },
    {
      "cell_type": "markdown",
      "source": [
        "**WAP to search for 13 in L**"
      ],
      "metadata": {
        "id": "gHdjbpsJohi0"
      }
    },
    {
      "cell_type": "code",
      "source": [
        "if 13 in L:\n",
        "    print(\"13 is found in the list.\")\n",
        "else:\n",
        "    print(\"13 is not found in the list.\")"
      ],
      "metadata": {
        "id": "QXVPkJv-ol3X"
      },
      "execution_count": null,
      "outputs": []
    },
    {
      "cell_type": "markdown",
      "source": [
        "**WAP to count the number of elements present in L**"
      ],
      "metadata": {
        "id": "jWT_4FsEpJ6J"
      }
    },
    {
      "cell_type": "code",
      "source": [
        "count = len(L)\n",
        "print(\"The number of elements in the list is:\", count)"
      ],
      "metadata": {
        "colab": {
          "base_uri": "https://localhost:8080/"
        },
        "id": "oQcsWw16pMvY",
        "outputId": "43887ed9-9551-4dd9-9976-7ed497df07c6"
      },
      "execution_count": null,
      "outputs": [
        {
          "output_type": "stream",
          "name": "stdout",
          "text": [
            "The number of elements in the list is: 4\n"
          ]
        }
      ]
    },
    {
      "cell_type": "markdown",
      "source": [
        "**WAP to sum all the elements in L**"
      ],
      "metadata": {
        "id": "t9AJYJNDpWIL"
      }
    },
    {
      "cell_type": "code",
      "source": [
        "sum_of_elements = sum(L)\n",
        "print(\"The sum of elements in the list is:\", sum_of_elements)"
      ],
      "metadata": {
        "id": "ZjI9hhjLpYVo"
      },
      "execution_count": null,
      "outputs": []
    },
    {
      "cell_type": "markdown",
      "source": [
        "**WAP to sum all ODD numbers in L**"
      ],
      "metadata": {
        "id": "ov_8urNYpvZR"
      }
    },
    {
      "cell_type": "code",
      "source": [
        "sum_of_odd_numbers = sum([num for num in L if num % 2 != 0])\n",
        "print(\"The sum of odd numbers in the list is:\", sum_of_odd_numbers)"
      ],
      "metadata": {
        "id": "Zni8oTHhpz9Z"
      },
      "execution_count": null,
      "outputs": []
    },
    {
      "cell_type": "markdown",
      "source": [
        "**WAP to sum all EVEN numbers in L**\n"
      ],
      "metadata": {
        "id": "fyZgV_HXp4BC"
      }
    },
    {
      "cell_type": "code",
      "source": [
        "sum_of_even_numbers = sum([num for num in L if num % 2 == 0])\n",
        "print(\"The sum of even numbers in the list is:\", sum_of_even_numbers)"
      ],
      "metadata": {
        "id": "KvuUqOlsp6vX"
      },
      "execution_count": null,
      "outputs": []
    },
    {
      "cell_type": "markdown",
      "source": [
        "**WAP to sum all PRIME numbers in L**"
      ],
      "metadata": {
        "id": "qHXDwhQQqTZe"
      }
    },
    {
      "cell_type": "code",
      "source": [
        "def is_prime(n):\n",
        "    if n < 2:\n",
        "        return False\n",
        "    for i in range(2, int(n**0.5) + 1):\n",
        "        if n % i == 0:\n",
        "            return False\n",
        "    return True\n",
        "\n",
        "sum_of_prime_numbers = sum([num for num in L if is_prime(num)])\n",
        "print(\"The sum of prime numbers in the list is:\", sum_of_prime_numbers)\n"
      ],
      "metadata": {
        "id": "BtIvYIhsqWG2"
      },
      "execution_count": null,
      "outputs": []
    },
    {
      "cell_type": "markdown",
      "source": [
        "**WAP to clear all the elements in L**"
      ],
      "metadata": {
        "id": "E4qYAgqbqfwW"
      }
    },
    {
      "cell_type": "code",
      "source": [
        "L.clear()\n",
        "print(\"The list L after clearing all elements:\", L)"
      ],
      "metadata": {
        "id": "czJvehOkqmqj"
      },
      "execution_count": null,
      "outputs": []
    },
    {
      "cell_type": "markdown",
      "source": [
        "**WAP to delete L**\n"
      ],
      "metadata": {
        "id": "4SWf4Zrgq0C0"
      }
    },
    {
      "cell_type": "code",
      "source": [
        "del L"
      ],
      "metadata": {
        "id": "qewioy8Eq1mZ"
      },
      "execution_count": null,
      "outputs": []
    },
    {
      "cell_type": "markdown",
      "source": [],
      "metadata": {
        "id": "TIoypL8ms5HN"
      }
    },
    {
      "cell_type": "markdown",
      "source": [
        "**(2) D is a dictionary defined as D= {1:5.6, 2:7.8, 3:6.6, 4:8.7, 5:7.7}**"
      ],
      "metadata": {
        "id": "s68cp0AOsk75"
      }
    },
    {
      "cell_type": "markdown",
      "source": [
        "**(i)WAP to add new entry in D; key=8 and value is 8.8**"
      ],
      "metadata": {
        "id": "HwXYwoF3snGT"
      }
    },
    {
      "cell_type": "code",
      "source": [
        "D[8] = 8.8\n",
        "print(D)"
      ],
      "metadata": {
        "id": "N-5aJn32swEz"
      },
      "execution_count": null,
      "outputs": []
    },
    {
      "cell_type": "markdown",
      "source": [
        "**(ii) WAP to remove key=2.**"
      ],
      "metadata": {
        "id": "Tv42Rc-6sz2v"
      }
    },
    {
      "cell_type": "code",
      "source": [
        "del D[2]\n",
        "print(D)"
      ],
      "metadata": {
        "id": "gxdRtDlItZrC"
      },
      "execution_count": null,
      "outputs": []
    },
    {
      "cell_type": "markdown",
      "source": [
        "**(iii) WAP to check weather 6 key is present in D**"
      ],
      "metadata": {
        "id": "rhziSpHttjTS"
      }
    },
    {
      "cell_type": "code",
      "source": [
        "if 6 in D:\n",
        "    print(\"Key 6 is present in the dictionary.\")\n",
        "else:\n",
        "    print(\"Key 6 is not present in the dictionary.\")"
      ],
      "metadata": {
        "id": "eunr6MQItrIf"
      },
      "execution_count": null,
      "outputs": []
    },
    {
      "cell_type": "markdown",
      "source": [
        "**(iv) WAP to count the number of elements present in D**"
      ],
      "metadata": {
        "id": "vZpCogmqt1jc"
      }
    },
    {
      "cell_type": "code",
      "source": [
        "count = len(D)\n",
        "print(\"The number of elements in the dictionary is:\", count)"
      ],
      "metadata": {
        "id": "9lyKft5Yt885"
      },
      "execution_count": null,
      "outputs": []
    },
    {
      "cell_type": "markdown",
      "source": [
        "**(v) WAP to add all the values present D.**"
      ],
      "metadata": {
        "id": "faTJiPBruAOk"
      }
    },
    {
      "cell_type": "code",
      "source": [
        "D = {1: 5.6, 2: 7.8, 3: 6.6, 4: 8.7, 5: 7.7}\n",
        "sum_of_values = sum(D.values())\n",
        "print(\"The sum of values in the dictionary is:\", sum_of_values)\n"
      ],
      "metadata": {
        "id": "MDz6fH907tsj",
        "outputId": "0ea6b4ce-1712-48a6-bbb6-87a0214d97b9",
        "colab": {
          "base_uri": "https://localhost:8080/"
        }
      },
      "execution_count": null,
      "outputs": [
        {
          "output_type": "stream",
          "name": "stdout",
          "text": [
            "The sum of values in the dictionary is: 36.4\n"
          ]
        }
      ]
    },
    {
      "cell_type": "markdown",
      "source": [
        "**(vi) WAP to update the value of 3 to 7.1.**"
      ],
      "metadata": {
        "id": "A5qRjzw47u1w"
      }
    },
    {
      "cell_type": "code",
      "source": [
        "D = {1: 5.6, 2: 7.8, 3: 6.6, 4: 8.7, 5: 7.7}\n",
        "D[3] = 7.1\n",
        "print(\"Updated dictionary:\", D)\n"
      ],
      "metadata": {
        "id": "jgKvZWhd70KC"
      },
      "execution_count": null,
      "outputs": []
    },
    {
      "cell_type": "markdown",
      "source": [
        "**(vii) WAP to clear the dictionary**"
      ],
      "metadata": {
        "id": "YgeWFrzz78Zd"
      }
    },
    {
      "cell_type": "code",
      "source": [
        "D = {1: 5.6, 2: 7.8, 3: 6.6, 4: 8.7, 5: 7.7}\n",
        "D.clear()\n",
        "print(\"The dictionary D after clearing all elements:\", D)\n"
      ],
      "metadata": {
        "id": "ZghNbfZx7_TH"
      },
      "execution_count": null,
      "outputs": []
    },
    {
      "cell_type": "markdown",
      "source": [
        "**S1 is a set defined as S1= [10, 20, 30, 40, 50, 60].\n",
        " S2 is a set defined as S2= [40, 50, 60, 70, 80, 90].\n",
        "(i) WAP to add 55 and 66 in Set S1.\n",
        "(ii) WAP to remove 10 and 30 from Set S1.\n",
        "(iii) WAP to check whether 40 is present in S1.\n",
        "(iv) WAP to find the union between S1 and S2.\n",
        "(v) WAP to find the intersection between S1 and S2.\n",
        "(vi) WAP to find the S1 - S2.**"
      ],
      "metadata": {
        "id": "5Qgg4U6TeGNj"
      }
    },
    {
      "cell_type": "code",
      "source": [
        "i)S1 = {10, 20, 30, 40, 50, 60}\n",
        "S1.add(55)\n",
        "S1.add(66)\n",
        "print(S1)\n"
      ],
      "metadata": {
        "id": "4eqQlUfyeQrc"
      },
      "execution_count": null,
      "outputs": []
    },
    {
      "cell_type": "code",
      "source": [
        "ii)S1 = {10, 20, 30, 40, 50, 60}\n",
        "S1.remove(10)\n",
        "S1.remove(30)\n",
        "print(S1)\n"
      ],
      "metadata": {
        "id": "dTcLuzsaeZAo"
      },
      "execution_count": null,
      "outputs": []
    },
    {
      "cell_type": "code",
      "source": [
        "iii)S1 = {10, 20, 30, 40, 50, 60}\n",
        "if 40 in S1:\n",
        "    print(\"40 is present in S1\")\n",
        "else:\n",
        "    print(\"40 is not present in S1\")\n"
      ],
      "metadata": {
        "id": "43lWtrcaedLK"
      },
      "execution_count": null,
      "outputs": []
    },
    {
      "cell_type": "code",
      "source": [
        "iv)S1 = {10, 20, 30, 40, 50, 60}\n",
        "S2 = {40, 50, 60, 70, 80, 90}\n",
        "union_set = S1.union(S2)\n",
        "# Alternatively: union_set = S1 | S2\n",
        "print(union_set)\n"
      ],
      "metadata": {
        "id": "NwBf0J55ehls"
      },
      "execution_count": null,
      "outputs": []
    },
    {
      "cell_type": "code",
      "source": [
        "v)S1 = {10, 20, 30, 40, 50, 60}\n",
        "S2 = {40, 50, 60, 70, 80, 90}\n",
        "intersection_set = S1.intersection(S2)\n",
        "# Alternatively: intersection_set = S1 & S2\n",
        "print(intersection_set)\n"
      ],
      "metadata": {
        "id": "UU89rSZpelP2"
      },
      "execution_count": null,
      "outputs": []
    },
    {
      "cell_type": "code",
      "source": [
        "vi)S1 = {10, 20, 30, 40, 50, 60}\n",
        "S2 = {40, 50, 60, 70, 80, 90}\n",
        "difference_set = S1.difference(S2)\n",
        "# Alternatively: difference_set = S1 - S2\n",
        "print(difference_set)\n"
      ],
      "metadata": {
        "id": "M2iNHQKzepcu"
      },
      "execution_count": null,
      "outputs": []
    },
    {
      "cell_type": "markdown",
      "source": [
        "**Q4. Write the following program.\n",
        "(i) WAP to print 100 random strings whose length between 6 and 8.\n",
        "(ii) WAP to print all prime numbers between 600 and 800.\n",
        "(iii) WAP to print all numbers between 100 and 1000 that are divisible by 7 and 9.**"
      ],
      "metadata": {
        "id": "7wJ-hU2KeuLz"
      }
    },
    {
      "cell_type": "code",
      "source": [
        "i)import random\n",
        "import string\n",
        "\n",
        "for _ in range(100):\n",
        "    length = random.randint(6, 8)\n",
        "    random_string = ''.join(random.choices(string.ascii_lowercase, k=length))\n",
        "    print(random_string)\n"
      ],
      "metadata": {
        "id": "IYa7oDdNeylo"
      },
      "execution_count": null,
      "outputs": []
    },
    {
      "cell_type": "code",
      "source": [
        "ii)def is_prime(n):\n",
        "    if n < 2:\n",
        "        return False\n",
        "    for i in range(2, int(n ** 0.5) + 1):\n",
        "        if n % i == 0:\n",
        "            return False\n",
        "    return True\n",
        "\n",
        "for num in range(600, 801):\n",
        "    if is_prime(num):\n",
        "        print(num)\n"
      ],
      "metadata": {
        "id": "Gy0ANL9je97t"
      },
      "execution_count": null,
      "outputs": []
    },
    {
      "cell_type": "code",
      "source": [
        "iii)for num in range(100, 1001):\n",
        "    if num % 7 == 0 and num % 9 == 0:\n",
        "        print(num)\n"
      ],
      "metadata": {
        "id": "B95LGtUVfB9w"
      },
      "execution_count": null,
      "outputs": []
    },
    {
      "cell_type": "markdown",
      "source": [
        "**5. WAP to create two lists of 10 random numbers between 10 and 30; Find\n",
        "(i) Common numbers in the two lists\n",
        "(ii) Unique numbers in both the list\n",
        "(iii) Minimum in both the list\n",
        "(iv) Maximum in both the list\n",
        "(v) Sum of both the lists**"
      ],
      "metadata": {
        "id": "RcF6QafxfXmx"
      }
    },
    {
      "cell_type": "code",
      "source": [
        "# Create two lists of 10 random numbers between 10 and 30\n",
        "list1 = random.sample(range(10, 31), 10)\n",
        "list2 = random.sample(range(10, 31), 10)\n",
        "\n",
        "print(\"List 1:\", list1)\n",
        "print(\"List 2:\", list2)\n"
      ],
      "metadata": {
        "id": "HEWIibxpfjyN"
      },
      "execution_count": null,
      "outputs": []
    },
    {
      "cell_type": "code",
      "source": [
        "i)common_numbers = set(list1) & set(list2)\n",
        "print(\"Common numbers:\", common_numbers)"
      ],
      "metadata": {
        "id": "H54x7SgOfaI3"
      },
      "execution_count": null,
      "outputs": []
    },
    {
      "cell_type": "code",
      "source": [
        "ii)unique_numbers = set(list1) ^ set(list2)\n",
        "print(\"Unique numbers:\", unique_numbers)"
      ],
      "metadata": {
        "id": "N7v3tWUTfp92"
      },
      "execution_count": null,
      "outputs": []
    },
    {
      "cell_type": "code",
      "source": [
        "iii)minimum1 = min(list1)\n",
        "minimum2 = min(list2)\n",
        "print(\"Minimum in List 1:\", minimum1)\n",
        "print(\"Minimum in List 2:\", minimum2)\n"
      ],
      "metadata": {
        "id": "oxzQtv7DftEW"
      },
      "execution_count": null,
      "outputs": []
    },
    {
      "cell_type": "code",
      "source": [
        "iv)maximum1 = max(list1)\n",
        "maximum2 = max(list2)\n",
        "print(\"Maximum in List 1:\", maximum1)\n",
        "print(\"Maximum in List 2:\", maximum2)"
      ],
      "metadata": {
        "id": "hhFAZ4Kqfwuj"
      },
      "execution_count": null,
      "outputs": []
    },
    {
      "cell_type": "code",
      "source": [
        "v)sum_lists = sum(list1) + sum(list2)\n",
        "print(\"Sum of both lists:\", sum_lists)"
      ],
      "metadata": {
        "id": "ozP6PteGf4jN"
      },
      "execution_count": null,
      "outputs": []
    },
    {
      "cell_type": "markdown",
      "source": [
        "**6. WAP to create a list of 100 random numbers between 100 and 900. Count and print the:\n",
        "(i) All odd numbers\n",
        "(ii) All even numbers\n",
        "(iii) All prime numbers**"
      ],
      "metadata": {
        "id": "YePBcklvf9kN"
      }
    },
    {
      "cell_type": "code",
      "source": [
        "# Create a list of 100 random numbers between 100 and 900\n",
        "random_numbers = random.sample(range(100, 901), 100)\n"
      ],
      "metadata": {
        "id": "1RvGdba-f_qK"
      },
      "execution_count": null,
      "outputs": []
    },
    {
      "cell_type": "code",
      "source": [
        "i)odd_numbers = [num for num in random_numbers if num % 2 != 0]\n",
        "print(\"Odd numbers:\", odd_numbers)\n",
        "print(\"Count of odd numbers:\", len(odd_numbers))"
      ],
      "metadata": {
        "id": "vzhwQeOpgLoP"
      },
      "execution_count": null,
      "outputs": []
    },
    {
      "cell_type": "code",
      "source": [
        "ii)even_numbers = [num for num in random_numbers if num % 2 == 0]\n",
        "print(\"Even numbers:\", even_numbers)\n",
        "print(\"Count of even numbers:\", len(even_numbers))"
      ],
      "metadata": {
        "id": "1q8J5jrIgPlO"
      },
      "execution_count": null,
      "outputs": []
    },
    {
      "cell_type": "code",
      "source": [
        "iii)def is_prime(n):\n",
        "    if n < 2:\n",
        "        return False\n",
        "    for i in range(2, int(n ** 0.5) + 1):\n",
        "        if n % i == 0:\n",
        "            return False\n",
        "    return True\n",
        "\n",
        "prime_numbers = [num for num in random_numbers if is_prime(num)]\n",
        "print(\"Prime numbers:\", prime_numbers)\n",
        "print(\"Count of prime numbers:\", len(prime_numbers))"
      ],
      "metadata": {
        "id": "Tnj1nVmfgS4D"
      },
      "execution_count": null,
      "outputs": []
    },
    {
      "cell_type": "markdown",
      "source": [
        "**7. D is a dictionary defined as D={1:\"One\",2:\"Two\",3:\"Three\",4:\"Four\", 5:\"Five\"}.\n",
        " WAP to read all the keys and values from dictionary and write to the file in the given below format.\n",
        "Key1, Value1\n",
        "Key2, Value2\n",
        "Key3, Value3**"
      ],
      "metadata": {
        "id": "T34SXh-Agdf2"
      }
    },
    {
      "cell_type": "code",
      "source": [
        "D = {1: \"One\", 2: \"Two\", 3: \"Three\", 4: \"Four\", 5: \"Five\"}\n",
        "\n",
        "# Open a file for writing\n",
        "with open(\"dictionary_output.txt\", \"w\") as file:\n",
        "    # Iterate over the dictionary items\n",
        "    for key, value in D.items():\n",
        "        # Write the key-value pair to the file\n",
        "        file.write(f\"{key}, {value}\\n\")\n"
      ],
      "metadata": {
        "id": "95VKgGdXggBZ"
      },
      "execution_count": null,
      "outputs": []
    },
    {
      "cell_type": "markdown",
      "source": [
        "**8. L is a list defined as L={\"One\",\"Two\",\"Three\",\"Four\",\"Five\"}.\n",
        " WAP to count the length of reach element from a list and write to the file in the given below format:\n",
        "One, 3\n",
        "Two, 3\n",
        "Four, 4**"
      ],
      "metadata": {
        "id": "9h4nbuBxgtNY"
      }
    },
    {
      "cell_type": "code",
      "source": [
        "L = [\"One\", \"Two\", \"Three\", \"Four\", \"Five\"]\n",
        "\n",
        "# Open a file for writing\n",
        "with open(\"list_output.txt\", \"w\") as file:\n",
        "    # Iterate over the list elements\n",
        "    for element in L:\n",
        "        # Get the length of the element\n",
        "        length = len(element)\n",
        "        # Write the element and its length to the file\n",
        "        file.write(f\"{element}, {length}\\n\")\n"
      ],
      "metadata": {
        "id": "dQTBrCiEgzlI"
      },
      "execution_count": null,
      "outputs": []
    },
    {
      "cell_type": "markdown",
      "source": [
        "**9. Write to the file 100 random strings whose length between 10 and 15.**"
      ],
      "metadata": {
        "id": "p55ffeSeg6nc"
      }
    },
    {
      "cell_type": "code",
      "source": [
        "import random\n",
        "import string\n",
        "\n",
        "# Open a file for writing\n",
        "with open(\"random_strings.txt\", \"w\") as file:\n",
        "    # Generate and write 100 random strings\n",
        "    for _ in range(100):\n",
        "        length = random.randint(10, 15)\n",
        "        random_string = ''.join(random.choices(string.ascii_lowercase, k=length))\n",
        "        file.write(random_string + '\\n')\n"
      ],
      "metadata": {
        "id": "9cVyNYKPg_Sw"
      },
      "execution_count": null,
      "outputs": []
    },
    {
      "cell_type": "markdown",
      "source": [
        "**10. Write to the file all prime numbers between 600 and 800**"
      ],
      "metadata": {
        "id": "YIWq7OVdhFYG"
      }
    },
    {
      "cell_type": "code",
      "source": [
        "def is_prime(n):\n",
        "    if n < 2:\n",
        "        return False\n",
        "    for i in range(2, int(n ** 0.5) + 1):\n",
        "        if n % i == 0:\n",
        "            return False\n",
        "    return True\n",
        "\n",
        "# Open a file for writing\n",
        "with open(\"prime_numbers.txt\", \"w\") as file:\n",
        "    # Check and write prime numbers between 600 and 800\n",
        "    for num in range(600, 801):\n",
        "        if is_prime(num):\n",
        "            file.write(f\"{num}\\n\")\n"
      ],
      "metadata": {
        "id": "WFPl8gpGhMFN"
      },
      "execution_count": null,
      "outputs": []
    },
    {
      "cell_type": "markdown",
      "source": [
        "**11.WAP to calculate the time taken by a program**"
      ],
      "metadata": {
        "id": "YWj6kYBcha8J"
      }
    },
    {
      "cell_type": "code",
      "source": [
        "import time\n",
        "\n",
        "# Start the timer\n",
        "start_time = time.time()\n",
        "\n",
        "# Your program code goes here\n",
        "\n",
        "# End the timer\n",
        "end_time = time.time()\n",
        "\n",
        "# Calculate the elapsed time\n",
        "elapsed_time = end_time - start_time\n",
        "\n",
        "# Print the elapsed time\n",
        "print(f\"Elapsed time: {elapsed_time} seconds\")\n"
      ],
      "metadata": {
        "id": "Va9HmA9yhesK"
      },
      "execution_count": null,
      "outputs": []
    },
    {
      "cell_type": "markdown",
      "source": [
        "**12. WAP to sort following number of elements in a list, calculate time taken and plot the graph.\n",
        "Number of elements in list Time Taken\n",
        "5k T1\n",
        "10k T2\n",
        "15k T3\n",
        "20k T4\n",
        "25k T5**"
      ],
      "metadata": {
        "id": "m4__JFTHhr6b"
      }
    },
    {
      "cell_type": "code",
      "source": [
        "import time\n",
        "import matplotlib.pyplot as plt\n",
        "\n",
        "def sort_list(n):\n",
        "    # Generate a list of random numbers\n",
        "    random_list = [random.randint(1, 100) for _ in range(n)]\n",
        "\n",
        "    # Start the timer\n",
        "    start_time = time.time()\n",
        "\n",
        "    # Sort the list\n",
        "    sorted_list = sorted(random_list)\n",
        "\n",
        "    # End the timer\n",
        "    end_time = time.time()\n",
        "\n",
        "    # Calculate the elapsed time\n",
        "    elapsed_time = end_time - start_time\n",
        "\n",
        "    return elapsed_time\n",
        "\n",
        "# Define the number of elements in the list\n",
        "num_elements = [5000, 10000, 15000, 20000, 25000]\n",
        "\n",
        "# Calculate the time taken for each number of elements\n",
        "time_taken = []\n",
        "for n in num_elements:\n",
        "    elapsed_time = sort_list(n)\n",
        "    time_taken.append(elapsed_time)\n",
        "\n",
        "# Plot the graph\n",
        "plt.plot(num_elements, time_taken, marker='o')\n",
        "plt.xlabel('Number of Elements')\n",
        "plt.ylabel('Time Taken (seconds)')\n",
        "plt.title('Sorting Time vs Number of Elements')\n",
        "plt.show()\n"
      ],
      "metadata": {
        "id": "_Krjjt50hwJM"
      },
      "execution_count": null,
      "outputs": []
    },
    {
      "cell_type": "markdown",
      "source": [
        "**13.WAP to create a dictionary of student marks in five subjects and you have to find the student\n",
        " having maximum and minimum average marks.**"
      ],
      "metadata": {
        "id": "7QReW4g-h_nY"
      }
    },
    {
      "cell_type": "code",
      "source": [
        "def calculate_average(marks):\n",
        "    total = sum(marks)\n",
        "    return total / len(marks)\n",
        "\n",
        "# Dictionary of student marks in five subjects\n",
        "student_marks = {\n",
        "    \"John\": [85, 90, 92, 88, 95],\n",
        "    \"Emma\": [78, 80, 82, 75, 85],\n",
        "    \"Michael\": [92, 88, 90, 86, 95],\n",
        "    \"Sophia\": [80, 75, 85, 82, 78],\n",
        "    \"Daniel\": [95, 90, 92, 88, 85]\n",
        "}\n",
        "\n",
        "# Calculate average marks for each student\n",
        "averages = {student: calculate_average(marks) for student, marks in student_marks.items()}\n",
        "\n",
        "# Find the student with maximum average marks\n",
        "max_student = max(averages, key=averages.get)\n",
        "max_average = averages[max_student]\n",
        "\n",
        "# Find the student with minimum average marks\n",
        "min_student = min(averages, key=averages.get)\n",
        "min_average = averages[min_student]\n",
        "\n",
        "# Print the results\n",
        "print(\"Student with maximum average marks:\")\n",
        "print(f\"Name: {max_student}\")\n",
        "print(f\"Average marks: {max_average}\")\n",
        "print()\n",
        "print(\"Student with minimum average marks:\")\n",
        "print(f\"Name: {min_student}\")\n",
        "print(f\"Average marks: {min_average}\")\n"
      ],
      "metadata": {
        "id": "THZ2-PgUiBlS"
      },
      "execution_count": null,
      "outputs": []
    }
  ]
}