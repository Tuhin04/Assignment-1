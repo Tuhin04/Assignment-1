{
  "nbformat": 4,
  "nbformat_minor": 0,
  "metadata": {
    "colab": {
      "provenance": [],
      "authorship_tag": "ABX9TyOA134iKfR+L693Cpep3wyj",
      "include_colab_link": true
    },
    "kernelspec": {
      "name": "python3",
      "display_name": "Python 3"
    },
    "language_info": {
      "name": "python"
    }
  },
  "cells": [
    {
      "cell_type": "markdown",
      "metadata": {
        "id": "view-in-github",
        "colab_type": "text"
      },
      "source": [
        "<a href=\"https://colab.research.google.com/github/Tuhin04/Assignment-1/blob/main/assignment_1.ipynb\" target=\"_parent\"><img src=\"https://colab.research.google.com/assets/colab-badge.svg\" alt=\"Open In Colab\"/></a>"
      ]
    },
    {
      "cell_type": "markdown",
      "source": [
        "WAP to add 50 and 60 to L. \n"
      ],
      "metadata": {
        "id": "eSwVd8bWnglf"
      }
    },
    {
      "cell_type": "code",
      "execution_count": null,
      "metadata": {
        "id": "UF4U_Zkzg2Zf",
        "colab": {
          "base_uri": "https://localhost:8080/"
        },
        "outputId": "b57d398e-2c85-4cb3-b444-4063a5115104"
      },
      "outputs": [
        {
          "output_type": "stream",
          "name": "stdout",
          "text": [
            "[11, 12, 13, 14, 50, 60]\n"
          ]
        }
      ],
      "source": [
        "L.append(50)\n",
        "L.append(60)\n",
        "print(L)\n"
      ]
    },
    {
      "cell_type": "markdown",
      "source": [
        "WAP to remove 11 and 13from L"
      ],
      "metadata": {
        "id": "hnFutdtInoqy"
      }
    },
    {
      "cell_type": "code",
      "source": [
        "L.remove(11)\n",
        "L.remove(13)\n",
        "print(L)"
      ],
      "metadata": {
        "colab": {
          "base_uri": "https://localhost:8080/"
        },
        "id": "ekN_9oCJmG4G",
        "outputId": "423e0360-e724-4d40-c289-079e1c54e934"
      },
      "execution_count": null,
      "outputs": [
        {
          "output_type": "stream",
          "name": "stdout",
          "text": [
            "[12, 14]\n"
          ]
        }
      ]
    },
    {
      "cell_type": "markdown",
      "source": [
        "WAP to sort L in ascending order."
      ],
      "metadata": {
        "id": "rZeClSfZn895"
      }
    },
    {
      "cell_type": "code",
      "source": [
        "L = [11, 12, 13, 14]\n",
        "L.sort()\n",
        "print(L)"
      ],
      "metadata": {
        "id": "8d9XCpnxoAS-",
        "outputId": "d47d65d8-23e9-4825-a18e-c97c763294fa",
        "colab": {
          "base_uri": "https://localhost:8080/"
        }
      },
      "execution_count": 1,
      "outputs": [
        {
          "output_type": "stream",
          "name": "stdout",
          "text": [
            "[11, 12, 13, 14]\n"
          ]
        }
      ]
    },
    {
      "cell_type": "markdown",
      "source": [
        "WAP to sort L in descending order."
      ],
      "metadata": {
        "id": "d86NzE_moXxY"
      }
    },
    {
      "cell_type": "code",
      "source": [
        "L.sort(reverse=True)\n",
        "print(L)"
      ],
      "metadata": {
        "id": "mYLuPG43oai_",
        "outputId": "a7d846b8-6ee7-4073-e566-9f4c9b218ffd",
        "colab": {
          "base_uri": "https://localhost:8080/"
        }
      },
      "execution_count": 2,
      "outputs": [
        {
          "output_type": "stream",
          "name": "stdout",
          "text": [
            "[14, 13, 12, 11]\n"
          ]
        }
      ]
    },
    {
      "cell_type": "markdown",
      "source": [
        "WAP to search for 13 in L."
      ],
      "metadata": {
        "id": "gHdjbpsJohi0"
      }
    },
    {
      "cell_type": "code",
      "source": [
        "if 13 in L:\n",
        "    print(\"13 is found in the list.\")\n",
        "else:\n",
        "    print(\"13 is not found in the list.\")"
      ],
      "metadata": {
        "id": "QXVPkJv-ol3X"
      },
      "execution_count": null,
      "outputs": []
    }
  ]
}